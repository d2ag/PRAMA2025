{
 "cells": [
  {
   "cell_type": "markdown",
   "metadata": {},
   "source": [
    "# Etude d'un dataset pour prédire le prix d'une maison\n",
    "\n",
    "- On va ici essayer de prédire le prix d'une maison en fonction de : \n",
    "\n",
    "- id : Identifiant de la vente,\n",
    "\n",
    "- date : Date de la vente,\n",
    "\n",
    "- nb_chambres : Nombre de chambres,\n",
    "\n",
    "- nb_sdb : Nombre de salles de bain, les valeurs 0.5 correspondent aux WC sans douche/baignoire,\n",
    "\n",
    "- m2_interieur : Surface en m2 de l'espace vivable de la maison,\n",
    "\n",
    "- m2_jardin : Surface en m2 de l'espace extérieur,\n",
    "\n",
    "- m2_etage : Surface en m2 des pièces situées au dessus du niveau du sol,\n",
    "\n",
    "- m2_soussol : Surface en m2 des pièces situées en dessous du niveau du sol,\n",
    "\n",
    "- nb_etages : Nombre d'étages,\n",
    "\n",
    "- vue_mer : Variable booléenne indiquant s'il y a une vue sur mer ou non,\n",
    "\n",
    "- vue_note : Note entre 0 et 4 indiquant la qualité de la vue,\n",
    "\n",
    "- etat_note : Note de 1 à 5 indiquant l'état de la maison,\n",
    "\n",
    "- design_note : Note de 1 à 13 indiquant le niveau de design de la maison,\n",
    "\n",
    "- annee_construction : Année de construction,\n",
    "\n",
    "- annee_renovation : Dernière année de rénovation s'il y a eu, sinon 0,\n",
    "\n",
    "- m2_interieur_15voisins : Surface en m2 de l'espace vivable des 15 voisins les plus proches,\n",
    "\n",
    "- m2_jardin_15voisins : Surface en m2 de l'espace extérieur des 15 voisins les plus proches,\n",
    "\n",
    "- zipcode : Zipcode de l'adresse de la maison\n",
    "\n",
    "- lat : latitude,\n",
    "\n",
    "- long : longitude"
   ]
  },
  {
   "cell_type": "code",
   "execution_count": null,
   "metadata": {
    "vscode": {
     "languageId": "plaintext"
    }
   },
   "outputs": [],
   "source": [
    "import pandas as pd"
   ]
  }
 ],
 "metadata": {
  "language_info": {
   "name": "python"
  }
 },
 "nbformat": 4,
 "nbformat_minor": 2
}
